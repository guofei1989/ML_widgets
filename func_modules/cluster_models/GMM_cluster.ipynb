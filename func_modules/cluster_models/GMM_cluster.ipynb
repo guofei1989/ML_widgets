{
 "cells": [
  {
   "cell_type": "markdown",
   "metadata": {},
   "source": [
    "介绍了利用高斯混合模型（GMM）解决聚类问题"
   ]
  },
  {
   "cell_type": "code",
   "execution_count": 16,
   "metadata": {},
   "outputs": [],
   "source": [
    "import numpy as np\n",
    "import matplotlib.pyplot as plt\n",
    "from sklearn.datasets import load_iris\n",
    "from sklearn.cluster import KMeans\n",
    "from sklearn.mixture import GaussianMixture\n",
    "from sklearn.metrics import accuracy_score\n",
    "import warnings\n",
    "warnings.filterwarnings('ignore')\n",
    "%matplotlib inline"
   ]
  },
  {
   "cell_type": "code",
   "execution_count": 6,
   "metadata": {},
   "outputs": [],
   "source": [
    "# 1.载入鸢尾花数据\n",
    "iris=load_iris()\n",
    "x=iris.data\n",
    "y=iris.target"
   ]
  },
  {
   "cell_type": "code",
   "execution_count": 11,
   "metadata": {},
   "outputs": [
    {
     "name": "stdout",
     "output_type": "stream",
     "text": [
      "实际均值为\n",
      " [[5.006 3.428 1.462 0.246]\n",
      " [5.936 2.77  4.26  1.326]\n",
      " [6.588 2.974 5.552 2.026]]\n",
      "实际标准差为\n",
      " [[0.34894699 0.37525458 0.17191859 0.10432641]\n",
      " [0.51098337 0.31064449 0.46518813 0.19576517]\n",
      " [0.62948868 0.31925538 0.54634787 0.27188968]]\n"
     ]
    }
   ],
   "source": [
    "# 2. 统计特征均值和方差\n",
    "mu = np.array([np.mean(x[y==i], axis=0) for i in range(3)])\n",
    "std = np.array([np.std(x[y==i], axis=0) for i in range(3)])\n",
    "print('实际均值为\\n', mu)\n",
    "print('实际标准差为\\n', std)"
   ]
  },
  {
   "cell_type": "code",
   "execution_count": 19,
   "metadata": {},
   "outputs": [
    {
     "name": "stdout",
     "output_type": "stream",
     "text": [
      "Kmeans算法得到的各聚类的均值为\n",
      " [[5.9016129  2.7483871  4.39354839 1.43387097]\n",
      " [5.006      3.428      1.462      0.246     ]\n",
      " [6.85       3.07368421 5.74210526 2.07105263]]\n"
     ]
    }
   ],
   "source": [
    "# 3. 利用K-means算法进行聚类\n",
    "kmeans = KMeans(n_clusters=3, init='k-means++', random_state=0)\n",
    "y_hat1 = kmeans.fit_predict(x)\n",
    "mu1 = np.array([np.mean(x[y_hat1==i], axis=0) for i in range(3)])\n",
    "print('Kmeans算法得到的各聚类的均值为\\n', mu1)"
   ]
  },
  {
   "cell_type": "code",
   "execution_count": 21,
   "metadata": {},
   "outputs": [
    {
     "name": "stdout",
     "output_type": "stream",
     "text": [
      "分类正确率为:0.8933333333333333\n"
     ]
    }
   ],
   "source": [
    "# 可见作为无监督学习，其cluster类与最初的标签并不一致，需要手动调整类0和类1\n",
    "mask0 = (y_hat1==0)\n",
    "mask1 = (y_hat1==1)\n",
    "y_hat1[mask0] = 1\n",
    "y_hat1[mask1] = 0\n",
    "print(\"分类正确率为:{}\".format(accuracy_score(y, y_hat1)))"
   ]
  },
  {
   "cell_type": "code",
   "execution_count": 24,
   "metadata": {},
   "outputs": [
    {
     "name": "stdout",
     "output_type": "stream",
     "text": [
      "GMM算法得到的各聚类的均值为\n",
      " [[5.006      3.428      1.462      0.246     ]\n",
      " [6.54639415 2.94946365 5.48364578 1.98726565]\n",
      " [5.9170732  2.77804839 4.20540364 1.29848217]]\n"
     ]
    }
   ],
   "source": [
    "# 4. 利用GMM算法进行聚类\n",
    "gmm = GaussianMixture(n_components=3, covariance_type='full', random_state=0)\n",
    "gmm.fit(x)\n",
    "print(\"GMM算法得到的各聚类的均值为\\n\", gmm.means_)"
   ]
  },
  {
   "cell_type": "code",
   "execution_count": 25,
   "metadata": {},
   "outputs": [
    {
     "name": "stdout",
     "output_type": "stream",
     "text": [
      "分类正确率为:0.6666666666666666\n"
     ]
    }
   ],
   "source": [
    "# 需要手动调整类1和类2\n",
    "y_hat2 = gmm.predict(x)\n",
    "mask1 = (y_hat2==1)\n",
    "mask2 = (y_hat2==2)\n",
    "y_hat2[mask1] = 2\n",
    "y_hat1[mask2] = 1\n",
    "print(\"分类正确率为:{}\".format(accuracy_score(y, y_hat2)))"
   ]
  },
  {
   "cell_type": "code",
   "execution_count": null,
   "metadata": {},
   "outputs": [],
   "source": []
  }
 ],
 "metadata": {
  "kernelspec": {
   "display_name": "Python 3",
   "language": "python",
   "name": "python3"
  },
  "language_info": {
   "codemirror_mode": {
    "name": "ipython",
    "version": 3
   },
   "file_extension": ".py",
   "mimetype": "text/x-python",
   "name": "python",
   "nbconvert_exporter": "python",
   "pygments_lexer": "ipython3",
   "version": "3.6.7"
  }
 },
 "nbformat": 4,
 "nbformat_minor": 2
}
