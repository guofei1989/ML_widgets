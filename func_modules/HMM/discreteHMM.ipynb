{
 "cells": [
  {
   "cell_type": "markdown",
   "metadata": {},
   "source": [
    "以”三球模型”为例，介绍了观测状态是离散状态的情况下的HMM模型"
   ]
  },
  {
   "cell_type": "code",
   "execution_count": 1,
   "metadata": {},
   "outputs": [],
   "source": [
    "import numpy as np\n",
    "from hmmlearn import hmm"
   ]
  },
  {
   "cell_type": "code",
   "execution_count": 5,
   "metadata": {},
   "outputs": [],
   "source": [
    "# 定义状态集合\n",
    "states = [\"box 1\", \"box 2\", \"box3\"]\n",
    "n_states = len(states)\n",
    "\n",
    "# 定义观测集合\n",
    "observations = [\"red\", \"white\"]\n",
    "n_observations = len(observations)\n",
    "\n",
    "# 状态初始值\n",
    "start_probability = np.array([0.2, 0.4, 0.4])\n",
    "\n",
    "# 状态转移矩阵\n",
    "transition_probability = np.array([\n",
    "  [0.5, 0.2, 0.3],\n",
    "  [0.3, 0.5, 0.2],\n",
    "  [0.2, 0.3, 0.5]\n",
    "])\n",
    "\n",
    "# 观测生成概率（发射概率）\n",
    "emission_probability = np.array([\n",
    "  [0.5, 0.5],\n",
    "  [0.4, 0.6],\n",
    "  [0.7, 0.3]\n",
    "])\n",
    "\n",
    "model = hmm.MultinomialHMM(n_components=n_states)\n",
    "model.startprob_=start_probability    # 初始状态概率\n",
    "model.transmat_=transition_probability    # 状态转移矩阵\n",
    "model.emissionprob_=emission_probability    # 发射概率矩阵"
   ]
  },
  {
   "cell_type": "markdown",
   "metadata": {},
   "source": [
    "#### 1. 评估问题"
   ]
  },
  {
   "cell_type": "code",
   "execution_count": 6,
   "metadata": {},
   "outputs": [
    {
     "name": "stdout",
     "output_type": "stream",
     "text": [
      "-2.038545309915233\n"
     ]
    }
   ],
   "source": [
    "# 已知模型参数和观测序列，求解概率\n",
    "seen = np.array([[0,1,0]]).T\n",
    "print(model.score(seen))"
   ]
  },
  {
   "cell_type": "code",
   "execution_count": 12,
   "metadata": {},
   "outputs": [
    {
     "name": "stdout",
     "output_type": "stream",
     "text": [
      "序列seen发生的概率为:0.13021800000000003\n"
     ]
    }
   ],
   "source": [
    "# 上述求解的是以指数为底的log概率，需要进行转换\n",
    "print(\"序列seen发生的概率为:{}\".format(np.exp(model.score(seen))))"
   ]
  },
  {
   "cell_type": "markdown",
   "metadata": {},
   "source": [
    "#### 2. 解码问题"
   ]
  },
  {
   "cell_type": "code",
   "execution_count": 17,
   "metadata": {},
   "outputs": [],
   "source": [
    "# 已知模型参数和观测序列，求解最可能的隐藏序列\n",
    "seen = np.array([[0,1,0]]).T\n",
    "logprob, box = model.decode(seen, algorithm=\"viterbi\")"
   ]
  },
  {
   "cell_type": "code",
   "execution_count": 36,
   "metadata": {},
   "outputs": [
    {
     "name": "stdout",
     "output_type": "stream",
     "text": [
      "观测到的球颜色的序列为: ['red', 'white', 'red']\n",
      "隐藏的球编号的序列为: ['box3', 'box3', 'box3']\n"
     ]
    }
   ],
   "source": [
    "print(\"观测到的球颜色的序列为:\", list(map(lambda x: observations[x], seen.ravel())))\n",
    "print(\"隐藏的球编号的序列为:\", list(map(lambda x: states[x], box)))"
   ]
  },
  {
   "cell_type": "code",
   "execution_count": 37,
   "metadata": {},
   "outputs": [
    {
     "name": "stdout",
     "output_type": "stream",
     "text": [
      "隐藏发生的概率为:0.014699999999999996\n"
     ]
    }
   ],
   "source": [
    "# 还可以得到隐藏序列的概率\n",
    "print(\"隐藏序列发生的概率为:{}\".format(np.exp(logprob)))"
   ]
  },
  {
   "cell_type": "code",
   "execution_count": 39,
   "metadata": {},
   "outputs": [
    {
     "name": "stdout",
     "output_type": "stream",
     "text": [
      "观测到的球颜色的序列为: ['red', 'white', 'red']\n",
      "隐藏的球编号的序列为: ['box3', 'box3', 'box3']\n"
     ]
    }
   ],
   "source": [
    "# 也可用predict函数进行解码\n",
    "box2 = model.predict(seen)\n",
    "print(\"观测到的球颜色的序列为:\", list(map(lambda x: observations[x], seen.ravel())))\n",
    "print(\"隐藏的球编号的序列为:\", list(map(lambda x: states[x], box2)))"
   ]
  },
  {
   "cell_type": "markdown",
   "metadata": {},
   "source": [
    "#### 3. 学习问题"
   ]
  },
  {
   "cell_type": "markdown",
   "metadata": {},
   "source": [
    "只知道隐藏状态、观察结果的集合和观测序列，求解未知的初始状态pi,状态转移概率矩阵A和发射概率矩阵B"
   ]
  },
  {
   "cell_type": "code",
   "execution_count": 40,
   "metadata": {},
   "outputs": [],
   "source": [
    "# 定义隐藏状态集合\n",
    "states = [\"box 1\", \"box 2\", \"box3\"]\n",
    "n_states = len(states)\n",
    "\n",
    "# 定义观测结果集合\n",
    "observations = [\"red\", \"white\"]\n",
    "n_observations = len(observations)"
   ]
  },
  {
   "cell_type": "code",
   "execution_count": 41,
   "metadata": {},
   "outputs": [
    {
     "data": {
      "text/plain": [
       "MultinomialHMM(algorithm='viterbi', init_params='ste', n_components=3,\n",
       "        n_iter=20, params='ste',\n",
       "        random_state=<mtrand.RandomState object at 0x10504d750>,\n",
       "        startprob_prior=1.0, tol=0.01, transmat_prior=1.0, verbose=False)"
      ]
     },
     "execution_count": 41,
     "metadata": {},
     "output_type": "execute_result"
    }
   ],
   "source": [
    "model2 = hmm.MultinomialHMM(n_components=n_states, n_iter=20, tol=0.01)\n",
    "X2 = np.array([[0,1,0,1],[0,0,0,1],[1,0,1,1]])     # 若干组观测序列\n",
    "model2.fit(X2)"
   ]
  },
  {
   "cell_type": "code",
   "execution_count": 42,
   "metadata": {},
   "outputs": [
    {
     "name": "stdout",
     "output_type": "stream",
     "text": [
      "[0.31404741 0.4491969  0.23675569]\n",
      "[[0.33382519 0.32850166 0.33767316]\n",
      " [0.33428472 0.32387754 0.34183774]\n",
      " [0.33349289 0.33170954 0.33479757]]\n",
      "[[0.49221094 0.50778906]\n",
      " [0.56626827 0.43373173]\n",
      " [0.43990012 0.56009988]]\n",
      "-8.289138877942124\n"
     ]
    }
   ],
   "source": [
    "# 由于求解学习问题采用的鲍姆-韦尔奇算法是基于EM算法的近似算法，所以需要多跑几次\n",
    "model2.fit(X2)\n",
    "print(model2.startprob_)\n",
    "print(model2.transmat_)\n",
    "print(model2.emissionprob_)\n",
    "print(model2.score(X2))"
   ]
  },
  {
   "cell_type": "code",
   "execution_count": 44,
   "metadata": {},
   "outputs": [
    {
     "name": "stdout",
     "output_type": "stream",
     "text": [
      "[9.99747788e-01 2.52212174e-04 1.90113973e-25]\n",
      "[[0.00091685 0.08394974 0.9151334 ]\n",
      " [0.21569715 0.48525561 0.29904724]\n",
      " [0.41008868 0.25167919 0.33823213]]\n",
      "[[0.99667229 0.00332771]\n",
      " [0.76707089 0.23292911]\n",
      " [0.05727461 0.94272539]]\n",
      "-6.732298269772565\n"
     ]
    }
   ],
   "source": [
    "model2.fit(X2)\n",
    "print(model2.startprob_)\n",
    "print(model2.transmat_)\n",
    "print(model2.emissionprob_)\n",
    "print(model2.score(X2))"
   ]
  },
  {
   "cell_type": "code",
   "execution_count": 46,
   "metadata": {},
   "outputs": [
    {
     "name": "stdout",
     "output_type": "stream",
     "text": [
      "[3.50614852e-16 1.76226777e-01 8.23773223e-01]\n",
      "[[0.36958333 0.28124618 0.34917048]\n",
      " [0.76902791 0.15407799 0.0768941 ]\n",
      " [0.94363894 0.04171766 0.0146434 ]]\n",
      "[[0.14317431 0.85682569]\n",
      " [0.90301081 0.09698919]\n",
      " [0.98014948 0.01985052]]\n",
      "-6.881313144243788\n"
     ]
    }
   ],
   "source": [
    "model2.fit(X2)\n",
    "print(model2.startprob_)\n",
    "print(model2.transmat_)\n",
    "print(model2.emissionprob_)\n",
    "print(model2.score(X2))"
   ]
  },
  {
   "cell_type": "markdown",
   "metadata": {},
   "source": [
    "最终选择分数最高的模型参数（score为log分数）"
   ]
  },
  {
   "cell_type": "code",
   "execution_count": null,
   "metadata": {},
   "outputs": [],
   "source": []
  }
 ],
 "metadata": {
  "kernelspec": {
   "display_name": "Python 3",
   "language": "python",
   "name": "python3"
  },
  "language_info": {
   "codemirror_mode": {
    "name": "ipython",
    "version": 3
   },
   "file_extension": ".py",
   "mimetype": "text/x-python",
   "name": "python",
   "nbconvert_exporter": "python",
   "pygments_lexer": "ipython3",
   "version": "3.6.7"
  }
 },
 "nbformat": 4,
 "nbformat_minor": 2
}
